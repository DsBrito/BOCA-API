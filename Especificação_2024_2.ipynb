{
  "nbformat": 4,
  "nbformat_minor": 0,
  "metadata": {
    "colab": {
      "provenance": [],
      "include_colab_link": true
    },
    "kernelspec": {
      "name": "python3",
      "display_name": "Python 3"
    },
    "language_info": {
      "name": "python"
    }
  },
  "cells": [
    {
      "cell_type": "markdown",
      "metadata": {
        "id": "view-in-github",
        "colab_type": "text"
      },
      "source": [
        "<a href=\"https://colab.research.google.com/github/DsBrito/BOCA-API/blob/main/Especifica%C3%A7%C3%A3o_2024_2.ipynb\" target=\"_parent\"><img src=\"https://colab.research.google.com/assets/colab-badge.svg\" alt=\"Open In Colab\"/></a>"
      ]
    },
    {
      "cell_type": "markdown",
      "metadata": {
        "id": "CFTJh1VJhXQO"
      },
      "source": [
        "# Trabalho Prático"
      ]
    },
    {
      "cell_type": "markdown",
      "metadata": {
        "id": "okgk7zc4h-OH"
      },
      "source": [
        "O objetivo geral deste trabalho é praticar os conceitos discutidos em sala de aula, principalmente: representação e pré-processamento de dados textuais; redução de dimensionalidade e algoritmos de agrupamento."
      ]
    },
    {
      "cell_type": "markdown",
      "metadata": {
        "id": "RUFEpZjjhcqH"
      },
      "source": [
        "## Conjunto de Dados"
      ]
    },
    {
      "cell_type": "markdown",
      "metadata": {
        "id": "28ezm41sjRx9"
      },
      "source": [
        "Para esse trabalho utilizaremos um conjunto de dados de filmes. Os dados foram obtidos de várias fontes, incluindo IMDB.\n",
        "\n",
        "O conjunto de dados que vocês deverão usar encontra-se no AVA da disciplina. Os dados estão organizados um arquivo (`.csv`) com as seguintes colunas:\n",
        "\n",
        "* **genres** - gêneros a que um filme pertence. Veja que um filme pode estar associado a mais de um gênero (`str`);\n",
        "* **sinopse** - sinopse do filme (`str`);\n",
        "* **startYear** - ano de lançamento do filme (`int`);\n",
        "* **primaryTitle** - título do filme (`str`);\n",
        "* **runtimeMinutes** - duração do filme, em minutos (`int`);\n",
        "* **averageRating** - média das avaliações do filme (`float`);\n",
        "* **numVotes** - número de avaliações do filme (`int`);\n",
        "* **actors_names** - atores/atrizes principais (`str`);\n",
        "* **directors_names** - diretores(as) do filme (`str`).\n",
        "\n",
        "**Observação:** esse conjunto de dados é uma versão transformada dos dados originais. Por exemplo, gêneros muito populares ou raros foram removidos.\n",
        "\n",
        "**ATENÇÃO**\n",
        "É possível que seu computador não consiga lidar com o conjunto de dados completo. Se for o caso, faça uma amostra aleatória de filmes do conjunto de dados. Deixe claro o processo de amostragem, o tamanho das amostras finais que considerou no trabalho e as especificações do computador utilizado."
      ]
    },
    {
      "cell_type": "markdown",
      "source": [
        "Os comandos abaixo mostram como os dados podem ser obtidos e carregados em um `DataFrame`."
      ],
      "metadata": {
        "id": "JUwkY_E-lD5B"
      }
    },
    {
      "cell_type": "code",
      "source": [
        "!wget --no-check-certificate 'https://docs.google.com/uc?export=download&id=1AeYgV89TmYvNC__RDXr8hS0P6WOsChWg' -O filmes.csv\n",
        "\n"
      ],
      "metadata": {
        "id": "z5tkfAI0OIrL",
        "colab": {
          "base_uri": "https://localhost:8080/"
        },
        "outputId": "cdb2709b-bc83-4c00-ee7c-7a7a0e4a5961"
      },
      "execution_count": 33,
      "outputs": [
        {
          "output_type": "stream",
          "name": "stdout",
          "text": [
            "--2025-02-17 03:04:06--  https://docs.google.com/uc?export=download&id=1AeYgV89TmYvNC__RDXr8hS0P6WOsChWg\n",
            "Resolving docs.google.com (docs.google.com)... 142.251.107.101, 142.251.107.100, 142.251.107.138, ...\n",
            "Connecting to docs.google.com (docs.google.com)|142.251.107.101|:443... connected.\n",
            "HTTP request sent, awaiting response... 303 See Other\n",
            "Location: https://drive.usercontent.google.com/download?id=1AeYgV89TmYvNC__RDXr8hS0P6WOsChWg&export=download [following]\n",
            "--2025-02-17 03:04:06--  https://drive.usercontent.google.com/download?id=1AeYgV89TmYvNC__RDXr8hS0P6WOsChWg&export=download\n",
            "Resolving drive.usercontent.google.com (drive.usercontent.google.com)... 74.125.134.132, 2607:f8b0:400c:c00::84\n",
            "Connecting to drive.usercontent.google.com (drive.usercontent.google.com)|74.125.134.132|:443... connected.\n",
            "HTTP request sent, awaiting response... 200 OK\n",
            "Length: 11380332 (11M) [application/octet-stream]\n",
            "Saving to: ‘filmes.csv’\n",
            "\n",
            "filmes.csv          100%[===================>]  10.85M  --.-KB/s    in 0.05s   \n",
            "\n",
            "2025-02-17 03:04:12 (236 MB/s) - ‘filmes.csv’ saved [11380332/11380332]\n",
            "\n"
          ]
        }
      ]
    },
    {
      "cell_type": "code",
      "metadata": {
        "id": "vpZGHWs7p0C2"
      },
      "source": [
        "import pandas as pd\n",
        "df = pd.read_csv(\"filmes.csv\")"
      ],
      "execution_count": 34,
      "outputs": []
    },
    {
      "cell_type": "code",
      "source": [
        "df.head()\n",
        "a = df['sinopse']"
      ],
      "metadata": {
        "id": "hrQlXDHxzl9r"
      },
      "execution_count": 35,
      "outputs": []
    },
    {
      "cell_type": "code",
      "source": [
        "from sklearn.feature_extraction.text import TfidfVectorizer\n",
        "D = [\"É escória échange\", \"this is 1980  a another people and\", \"example example example\"]\n",
        "\n",
        "vectorizer = TfidfVectorizer(token_pattern=r'\\b[a-zA-ZÀ-ÖØ-öø-ÿ]+\\b', stop_words='english')\n",
        "vectorizer.fit_transform(D)\n",
        "vectorizer.get_feature_names_out()"
      ],
      "metadata": {
        "id": "Xpx94zrcBg3T",
        "outputId": "8b386021-8442-4f41-8860-48601c3d2324",
        "colab": {
          "base_uri": "https://localhost:8080/"
        }
      },
      "execution_count": 36,
      "outputs": [
        {
          "output_type": "execute_result",
          "data": {
            "text/plain": [
              "array(['escória', 'example', 'people', 'é', 'échange'], dtype=object)"
            ]
          },
          "metadata": {},
          "execution_count": 36
        }
      ]
    },
    {
      "cell_type": "markdown",
      "metadata": {
        "id": "aRqKIFG8oOjC"
      },
      "source": [
        "## Objetivo"
      ]
    },
    {
      "cell_type": "markdown",
      "metadata": {
        "id": "xPvGwYn7oOjC"
      },
      "source": [
        "Vocês deverão utilizar aprendizado não supervisionado (neste caso, agrupamento) para investigar se há relação entre a **sinopse** de um filme e o(s) **gênero(s)** a que pertence.\n",
        "\n",
        "De forma mais específica, vocês deverão agrupar os filmes de acordo suas sinopses e, após isso, verificar a distribuição dos gêneros em cada grupo. Ou seja, se os filmes pertencentes ao mesmo grupo possuem o(s) mesmo(s) gênero(s) ou se as distribuições de gêneros de grupos diferentes são distintas."
      ]
    },
    {
      "cell_type": "markdown",
      "source": [
        "## Trabalho"
      ],
      "metadata": {
        "id": "HnmmtUKU6iy7"
      }
    },
    {
      "cell_type": "markdown",
      "source": [
        "Antes de fazer o pré-processamento de dados a ideia é que vamos dividir a base de dados em pedaços menores mantendo a proporção da base de dados original ([StratifiedKFold](https://scikit-learn.org/stable/modules/generated/sklearn.model_selection.StratifiedKFold.html))."
      ],
      "metadata": {
        "id": "JrWBVR_nwBSK"
      }
    },
    {
      "cell_type": "code",
      "source": [
        "X = df.drop(columns=['genres'])\n",
        "y = df['genres']"
      ],
      "metadata": {
        "id": "6nCJt4sZ4gHN"
      },
      "execution_count": 37,
      "outputs": []
    },
    {
      "cell_type": "code",
      "source": [
        "import numpy as np\n",
        "from sklearn.model_selection import StratifiedKFold\n",
        "\n",
        "SEED = 42\n",
        "np.random.seed(SEED)\n",
        "\n",
        "# Dividindo em 10 Folds estratificados\n",
        "skf = StratifiedKFold(n_splits=3)\n",
        "\n",
        "# Guardar todos os folds\n",
        "folds = list(skf.split(X, y))\n",
        "\n",
        "# Escolher um fold aleatório\n",
        "random_fold = np.random.RandomState(SEED).choice(len(folds))\n",
        "\n",
        "# Separar os dados do fold escolhido\n",
        "train_idx, test_idx = folds[random_fold]\n",
        "rand_X, rand_y = X.iloc[test_idx], y.iloc[test_idx]"
      ],
      "metadata": {
        "colab": {
          "base_uri": "https://localhost:8080/"
        },
        "id": "Z2kowOGD4p2i",
        "outputId": "9aa7112e-6530-4e6e-a3a7-19b824c6db74"
      },
      "execution_count": 38,
      "outputs": [
        {
          "output_type": "stream",
          "name": "stderr",
          "text": [
            "/usr/local/lib/python3.11/dist-packages/sklearn/model_selection/_split.py:805: UserWarning: The least populated class in y has only 1 members, which is less than n_splits=3.\n",
            "  warnings.warn(\n"
          ]
        }
      ]
    },
    {
      "cell_type": "code",
      "source": [
        "# Pegando apenas a característica sinopse da amostra\n",
        "rand_X = rand_X['sinopse']"
      ],
      "metadata": {
        "id": "7fn4hVBa9lUv"
      },
      "execution_count": 39,
      "outputs": []
    },
    {
      "cell_type": "markdown",
      "source": [
        "### Criando matriz de tokens para trabalhar com TF-IDF"
      ],
      "metadata": {
        "id": "EJiupFZI-VrU"
      }
    },
    {
      "cell_type": "code",
      "source": [
        "!pip install -U spacy\n",
        "\n",
        "# Baixando os modelos\n",
        "!python -m spacy download en_core_web_sm\n",
        "!python -m spacy download es_core_news_sm\n",
        "!python -m spacy download de_core_news_sm\n",
        "!python -m spacy download fr_core_news_sm"
      ],
      "metadata": {
        "id": "GyAfNZiXf4Rp",
        "outputId": "56a18ab6-4e95-4813-b0b6-9fdf5fcbde0e",
        "colab": {
          "base_uri": "https://localhost:8080/"
        }
      },
      "execution_count": 40,
      "outputs": [
        {
          "output_type": "stream",
          "name": "stdout",
          "text": [
            "Requirement already satisfied: spacy in /usr/local/lib/python3.11/dist-packages (3.8.4)\n",
            "Requirement already satisfied: spacy-legacy<3.1.0,>=3.0.11 in /usr/local/lib/python3.11/dist-packages (from spacy) (3.0.12)\n",
            "Requirement already satisfied: spacy-loggers<2.0.0,>=1.0.0 in /usr/local/lib/python3.11/dist-packages (from spacy) (1.0.5)\n",
            "Requirement already satisfied: murmurhash<1.1.0,>=0.28.0 in /usr/local/lib/python3.11/dist-packages (from spacy) (1.0.12)\n",
            "Requirement already satisfied: cymem<2.1.0,>=2.0.2 in /usr/local/lib/python3.11/dist-packages (from spacy) (2.0.11)\n",
            "Requirement already satisfied: preshed<3.1.0,>=3.0.2 in /usr/local/lib/python3.11/dist-packages (from spacy) (3.0.9)\n",
            "Requirement already satisfied: thinc<8.4.0,>=8.3.4 in /usr/local/lib/python3.11/dist-packages (from spacy) (8.3.4)\n",
            "Requirement already satisfied: wasabi<1.2.0,>=0.9.1 in /usr/local/lib/python3.11/dist-packages (from spacy) (1.1.3)\n",
            "Requirement already satisfied: srsly<3.0.0,>=2.4.3 in /usr/local/lib/python3.11/dist-packages (from spacy) (2.5.1)\n",
            "Requirement already satisfied: catalogue<2.1.0,>=2.0.6 in /usr/local/lib/python3.11/dist-packages (from spacy) (2.0.10)\n",
            "Requirement already satisfied: weasel<0.5.0,>=0.1.0 in /usr/local/lib/python3.11/dist-packages (from spacy) (0.4.1)\n",
            "Requirement already satisfied: typer<1.0.0,>=0.3.0 in /usr/local/lib/python3.11/dist-packages (from spacy) (0.15.1)\n",
            "Requirement already satisfied: tqdm<5.0.0,>=4.38.0 in /usr/local/lib/python3.11/dist-packages (from spacy) (4.67.1)\n",
            "Requirement already satisfied: numpy>=1.19.0 in /usr/local/lib/python3.11/dist-packages (from spacy) (1.26.4)\n",
            "Requirement already satisfied: requests<3.0.0,>=2.13.0 in /usr/local/lib/python3.11/dist-packages (from spacy) (2.32.3)\n",
            "Requirement already satisfied: pydantic!=1.8,!=1.8.1,<3.0.0,>=1.7.4 in /usr/local/lib/python3.11/dist-packages (from spacy) (2.10.6)\n",
            "Requirement already satisfied: jinja2 in /usr/local/lib/python3.11/dist-packages (from spacy) (3.1.5)\n",
            "Requirement already satisfied: setuptools in /usr/local/lib/python3.11/dist-packages (from spacy) (75.1.0)\n",
            "Requirement already satisfied: packaging>=20.0 in /usr/local/lib/python3.11/dist-packages (from spacy) (24.2)\n",
            "Requirement already satisfied: langcodes<4.0.0,>=3.2.0 in /usr/local/lib/python3.11/dist-packages (from spacy) (3.5.0)\n",
            "Requirement already satisfied: language-data>=1.2 in /usr/local/lib/python3.11/dist-packages (from langcodes<4.0.0,>=3.2.0->spacy) (1.3.0)\n",
            "Requirement already satisfied: annotated-types>=0.6.0 in /usr/local/lib/python3.11/dist-packages (from pydantic!=1.8,!=1.8.1,<3.0.0,>=1.7.4->spacy) (0.7.0)\n",
            "Requirement already satisfied: pydantic-core==2.27.2 in /usr/local/lib/python3.11/dist-packages (from pydantic!=1.8,!=1.8.1,<3.0.0,>=1.7.4->spacy) (2.27.2)\n",
            "Requirement already satisfied: typing-extensions>=4.12.2 in /usr/local/lib/python3.11/dist-packages (from pydantic!=1.8,!=1.8.1,<3.0.0,>=1.7.4->spacy) (4.12.2)\n",
            "Requirement already satisfied: charset-normalizer<4,>=2 in /usr/local/lib/python3.11/dist-packages (from requests<3.0.0,>=2.13.0->spacy) (3.4.1)\n",
            "Requirement already satisfied: idna<4,>=2.5 in /usr/local/lib/python3.11/dist-packages (from requests<3.0.0,>=2.13.0->spacy) (3.10)\n",
            "Requirement already satisfied: urllib3<3,>=1.21.1 in /usr/local/lib/python3.11/dist-packages (from requests<3.0.0,>=2.13.0->spacy) (2.3.0)\n",
            "Requirement already satisfied: certifi>=2017.4.17 in /usr/local/lib/python3.11/dist-packages (from requests<3.0.0,>=2.13.0->spacy) (2025.1.31)\n",
            "Requirement already satisfied: blis<1.3.0,>=1.2.0 in /usr/local/lib/python3.11/dist-packages (from thinc<8.4.0,>=8.3.4->spacy) (1.2.0)\n",
            "Requirement already satisfied: confection<1.0.0,>=0.0.1 in /usr/local/lib/python3.11/dist-packages (from thinc<8.4.0,>=8.3.4->spacy) (0.1.5)\n",
            "Requirement already satisfied: click>=8.0.0 in /usr/local/lib/python3.11/dist-packages (from typer<1.0.0,>=0.3.0->spacy) (8.1.8)\n",
            "Requirement already satisfied: shellingham>=1.3.0 in /usr/local/lib/python3.11/dist-packages (from typer<1.0.0,>=0.3.0->spacy) (1.5.4)\n",
            "Requirement already satisfied: rich>=10.11.0 in /usr/local/lib/python3.11/dist-packages (from typer<1.0.0,>=0.3.0->spacy) (13.9.4)\n",
            "Requirement already satisfied: cloudpathlib<1.0.0,>=0.7.0 in /usr/local/lib/python3.11/dist-packages (from weasel<0.5.0,>=0.1.0->spacy) (0.20.0)\n",
            "Requirement already satisfied: smart-open<8.0.0,>=5.2.1 in /usr/local/lib/python3.11/dist-packages (from weasel<0.5.0,>=0.1.0->spacy) (7.1.0)\n",
            "Requirement already satisfied: MarkupSafe>=2.0 in /usr/local/lib/python3.11/dist-packages (from jinja2->spacy) (3.0.2)\n",
            "Requirement already satisfied: marisa-trie>=1.1.0 in /usr/local/lib/python3.11/dist-packages (from language-data>=1.2->langcodes<4.0.0,>=3.2.0->spacy) (1.2.1)\n",
            "Requirement already satisfied: markdown-it-py>=2.2.0 in /usr/local/lib/python3.11/dist-packages (from rich>=10.11.0->typer<1.0.0,>=0.3.0->spacy) (3.0.0)\n",
            "Requirement already satisfied: pygments<3.0.0,>=2.13.0 in /usr/local/lib/python3.11/dist-packages (from rich>=10.11.0->typer<1.0.0,>=0.3.0->spacy) (2.18.0)\n",
            "Requirement already satisfied: wrapt in /usr/local/lib/python3.11/dist-packages (from smart-open<8.0.0,>=5.2.1->weasel<0.5.0,>=0.1.0->spacy) (1.17.2)\n",
            "Requirement already satisfied: mdurl~=0.1 in /usr/local/lib/python3.11/dist-packages (from markdown-it-py>=2.2.0->rich>=10.11.0->typer<1.0.0,>=0.3.0->spacy) (0.1.2)\n",
            "Collecting en-core-web-sm==3.8.0\n",
            "  Downloading https://github.com/explosion/spacy-models/releases/download/en_core_web_sm-3.8.0/en_core_web_sm-3.8.0-py3-none-any.whl (12.8 MB)\n",
            "\u001b[2K     \u001b[90m━━━━━━━━━━━━━━━━━━━━━━━━━━━━━━━━━━━━━━━━\u001b[0m \u001b[32m12.8/12.8 MB\u001b[0m \u001b[31m46.2 MB/s\u001b[0m eta \u001b[36m0:00:00\u001b[0m\n",
            "\u001b[?25h\u001b[38;5;2m✔ Download and installation successful\u001b[0m\n",
            "You can now load the package via spacy.load('en_core_web_sm')\n",
            "\u001b[38;5;3m⚠ Restart to reload dependencies\u001b[0m\n",
            "If you are in a Jupyter or Colab notebook, you may need to restart Python in\n",
            "order to load all the package's dependencies. You can do this by selecting the\n",
            "'Restart kernel' or 'Restart runtime' option.\n",
            "Collecting es-core-news-sm==3.8.0\n",
            "  Downloading https://github.com/explosion/spacy-models/releases/download/es_core_news_sm-3.8.0/es_core_news_sm-3.8.0-py3-none-any.whl (12.9 MB)\n",
            "\u001b[2K     \u001b[90m━━━━━━━━━━━━━━━━━━━━━━━━━━━━━━━━━━━━━━━━\u001b[0m \u001b[32m12.9/12.9 MB\u001b[0m \u001b[31m73.4 MB/s\u001b[0m eta \u001b[36m0:00:00\u001b[0m\n",
            "\u001b[?25h\u001b[38;5;2m✔ Download and installation successful\u001b[0m\n",
            "You can now load the package via spacy.load('es_core_news_sm')\n",
            "\u001b[38;5;3m⚠ Restart to reload dependencies\u001b[0m\n",
            "If you are in a Jupyter or Colab notebook, you may need to restart Python in\n",
            "order to load all the package's dependencies. You can do this by selecting the\n",
            "'Restart kernel' or 'Restart runtime' option.\n",
            "Collecting de-core-news-sm==3.8.0\n",
            "  Downloading https://github.com/explosion/spacy-models/releases/download/de_core_news_sm-3.8.0/de_core_news_sm-3.8.0-py3-none-any.whl (14.6 MB)\n",
            "\u001b[2K     \u001b[90m━━━━━━━━━━━━━━━━━━━━━━━━━━━━━━━━━━━━━━━━\u001b[0m \u001b[32m14.6/14.6 MB\u001b[0m \u001b[31m60.6 MB/s\u001b[0m eta \u001b[36m0:00:00\u001b[0m\n",
            "\u001b[?25h\u001b[38;5;2m✔ Download and installation successful\u001b[0m\n",
            "You can now load the package via spacy.load('de_core_news_sm')\n",
            "\u001b[38;5;3m⚠ Restart to reload dependencies\u001b[0m\n",
            "If you are in a Jupyter or Colab notebook, you may need to restart Python in\n",
            "order to load all the package's dependencies. You can do this by selecting the\n",
            "'Restart kernel' or 'Restart runtime' option.\n",
            "Collecting fr-core-news-sm==3.8.0\n",
            "  Downloading https://github.com/explosion/spacy-models/releases/download/fr_core_news_sm-3.8.0/fr_core_news_sm-3.8.0-py3-none-any.whl (16.3 MB)\n",
            "\u001b[2K     \u001b[90m━━━━━━━━━━━━━━━━━━━━━━━━━━━━━━━━━━━━━━━━\u001b[0m \u001b[32m16.3/16.3 MB\u001b[0m \u001b[31m35.9 MB/s\u001b[0m eta \u001b[36m0:00:00\u001b[0m\n",
            "\u001b[?25h\u001b[38;5;2m✔ Download and installation successful\u001b[0m\n",
            "You can now load the package via spacy.load('fr_core_news_sm')\n",
            "\u001b[38;5;3m⚠ Restart to reload dependencies\u001b[0m\n",
            "If you are in a Jupyter or Colab notebook, you may need to restart Python in\n",
            "order to load all the package's dependencies. You can do this by selecting the\n",
            "'Restart kernel' or 'Restart runtime' option.\n"
          ]
        }
      ]
    },
    {
      "cell_type": "code",
      "source": [
        "from nltk.stem import PorterStemmer\n",
        "from nltk.corpus import stopwords\n",
        "from langdetect import detect\n",
        "import spacy\n",
        "import nltk\n",
        "\n",
        "# Baixando as stop words do NLTK (apenas na primeira execução)\n",
        "nltk.download('stopwords')\n",
        "\n",
        "# Combina todas as stop words de todos os idiomas disponíveis no NLTK\n",
        "all_stop_words = set()\n",
        "for lang in stopwords.fileids():\n",
        "    all_stop_words.update(stopwords.words(lang))\n",
        "\n",
        "# Inicializando o PorterStemmer\n",
        "stemmer = PorterStemmer()\n",
        "\n",
        "# Carregando modelos do SpaCy para diferentes idiomas\n",
        "spacy_models = {\n",
        "    'en': spacy.load('en_core_web_sm'),\n",
        "    'es': spacy.load('es_core_news_sm'),\n",
        "    'de': spacy.load('de_core_news_sm'),\n",
        "    'fr': spacy.load('fr_core_news_sm')\n",
        "}\n",
        "\n",
        "def tokenize_stem(text):\n",
        "    try:\n",
        "        # Detecta o idioma do texto\n",
        "        lang = detect(text)\n",
        "    except:\n",
        "        lang = 'en'  # Padrão para inglês caso não detecte\n",
        "\n",
        "    # Usa o modelo SpaCy correspondente ao idioma\n",
        "    nlp = spacy_models.get(lang, spacy_models['en'])\n",
        "    doc = nlp(text)\n",
        "\n",
        "    # Tokenização, Lematização e Remoção de Stop Words (tudo junto com SpaCy)\n",
        "    tokens = [token.lemma_.lower() for token in doc if token.is_alpha and not token.is_stop]\n",
        "\n",
        "    # Aplica stemming usando o PorterStemmer\n",
        "    tokens = [stemmer.stem(word) for word in tokens]\n",
        "\n",
        "    # Remove as stop words multilíngues\n",
        "    tokens = [word for word in tokens if word not in all_stop_words]\n",
        "\n",
        "    return tokens\n",
        "\n",
        "\n",
        "# Criando o TfidfVectorizer com Stemming e Remoção de Números\n",
        "vectorizer = TfidfVectorizer(\n",
        "    min_df = 5,\n",
        "    tokenizer=tokenize_stem,  # Usa a função personalizada\n",
        "    token_pattern=None  # Ignorado quando usamos tokenizer personalizado\n",
        ")\n",
        "\n",
        "# Ajusta o vectorizer no conjunto completo (ou apenas no treino, se preferir)\n",
        "vectorizer.fit(rand_X)\n",
        "\n",
        "# Transforma os dados de rand_X\n",
        "rand_X_tfidf = vectorizer.transform(rand_X)\n",
        "\n",
        "tfidf_dataframe = pd.DataFrame(rand_X_tfidf.todense(), columns = vectorizer.get_feature_names_out())"
      ],
      "metadata": {
        "id": "AE8Df14NhHnB",
        "outputId": "84a7f18a-9686-46a8-ecad-5ca664fa1b40",
        "colab": {
          "base_uri": "https://localhost:8080/"
        }
      },
      "execution_count": 48,
      "outputs": [
        {
          "output_type": "stream",
          "name": "stderr",
          "text": [
            "[nltk_data] Downloading package stopwords to /root/nltk_data...\n",
            "[nltk_data]   Package stopwords is already up-to-date!\n",
            "/usr/local/lib/python3.11/dist-packages/spacy/util.py:1740: UserWarning: [W111] Jupyter notebook detected: if using `prefer_gpu()` or `require_gpu()`, include it in the same cell right before `spacy.load()` to ensure that the model is loaded on the correct device. More information: http://spacy.io/usage/v3#jupyter-notebook-gpu\n",
            "  warnings.warn(Warnings.W111)\n"
          ]
        }
      ]
    },
    {
      "cell_type": "code",
      "source": [
        "tfidf_dataframe.info()"
      ],
      "metadata": {
        "id": "vESh_FkIiiI0",
        "outputId": "8f35040c-28ca-4f3f-dc17-5d142cbb307f",
        "colab": {
          "base_uri": "https://localhost:8080/"
        }
      },
      "execution_count": 49,
      "outputs": [
        {
          "output_type": "stream",
          "name": "stdout",
          "text": [
            "<class 'pandas.core.frame.DataFrame'>\n",
            "RangeIndex: 10119 entries, 0 to 10118\n",
            "Columns: 4388 entries, aaron to zoo\n",
            "dtypes: float64(4388)\n",
            "memory usage: 338.8 MB\n"
          ]
        }
      ]
    },
    {
      "cell_type": "code",
      "source": [
        "# texts = [\n",
        "#     \"The cat is sleeping on the sofa.\",\n",
        "#     \"A cat sleeps peacefully on the couch lvare\tçigdem\téchang\témigré\",\n",
        "#     \"Dogs are playing outside while the cat sleeps inside.\",\n",
        "#     \"The quick brown fox jumps over the lazy dog.\"\n",
        "# ]\n",
        "\n",
        "# # Inicializando o TfidfVectorizer com a função de pré-processamento personalizada\n",
        "# vectorizer = TfidfVectorizer(tokenizer=tokenize_stem, lowercase=False)\n",
        "# tfidf_matrix = vectorizer.fit_transform(texts)\n",
        "\n",
        "# # Exibindo as features (palavras relevantes) e a matriz TF-IDF\n",
        "# print(\"Features:\", vectorizer.get_feature_names_out())\n",
        "# print(\"\\nTF-IDF Matrix:\")\n",
        "# print(tfidf_matrix.toarray())"
      ],
      "metadata": {
        "id": "fHRsjRuod3UR"
      },
      "execution_count": 43,
      "outputs": []
    },
    {
      "cell_type": "code",
      "source": [
        "tfidf_dataframe.head()"
      ],
      "metadata": {
        "id": "gtyREcYLc_Gs",
        "outputId": "0f9903fd-3a13-46c2-a43c-4dcd83188b4b",
        "colab": {
          "base_uri": "https://localhost:8080/",
          "height": 236
        }
      },
      "execution_count": 50,
      "outputs": [
        {
          "output_type": "execute_result",
          "data": {
            "text/plain": [
              "   aaron  abandon  abbi  abduct  abductor  abel  abil  abl  aboard  aborigin  \\\n",
              "0    0.0      0.0   0.0     0.0       0.0   0.0   0.0  0.0     0.0       0.0   \n",
              "1    0.0      0.0   0.0     0.0       0.0   0.0   0.0  0.0     0.0       0.0   \n",
              "2    0.0      0.0   0.0     0.0       0.0   0.0   0.0  0.0     0.0       0.0   \n",
              "3    0.0      0.0   0.0     0.0       0.0   0.0   0.0  0.0     0.0       0.0   \n",
              "4    0.0      0.0   0.0     0.0       0.0   0.0   0.0  0.0     0.0       0.0   \n",
              "\n",
              "   ...  youngster  youth   yu  yugoslavia  zealand  zero  zhang  zombi  zone  \\\n",
              "0  ...        0.0    0.0  0.0         0.0      0.0   0.0    0.0    0.0   0.0   \n",
              "1  ...        0.0    0.0  0.0         0.0      0.0   0.0    0.0    0.0   0.0   \n",
              "2  ...        0.0    0.0  0.0         0.0      0.0   0.0    0.0    0.0   0.0   \n",
              "3  ...        0.0    0.0  0.0         0.0      0.0   0.0    0.0    0.0   0.0   \n",
              "4  ...        0.0    0.0  0.0         0.0      0.0   0.0    0.0    0.0   0.0   \n",
              "\n",
              "   zoo  \n",
              "0  0.0  \n",
              "1  0.0  \n",
              "2  0.0  \n",
              "3  0.0  \n",
              "4  0.0  \n",
              "\n",
              "[5 rows x 4388 columns]"
            ],
            "text/html": [
              "\n",
              "  <div id=\"df-96c92cf3-1adc-46ef-897b-66372185333d\" class=\"colab-df-container\">\n",
              "    <div>\n",
              "<style scoped>\n",
              "    .dataframe tbody tr th:only-of-type {\n",
              "        vertical-align: middle;\n",
              "    }\n",
              "\n",
              "    .dataframe tbody tr th {\n",
              "        vertical-align: top;\n",
              "    }\n",
              "\n",
              "    .dataframe thead th {\n",
              "        text-align: right;\n",
              "    }\n",
              "</style>\n",
              "<table border=\"1\" class=\"dataframe\">\n",
              "  <thead>\n",
              "    <tr style=\"text-align: right;\">\n",
              "      <th></th>\n",
              "      <th>aaron</th>\n",
              "      <th>abandon</th>\n",
              "      <th>abbi</th>\n",
              "      <th>abduct</th>\n",
              "      <th>abductor</th>\n",
              "      <th>abel</th>\n",
              "      <th>abil</th>\n",
              "      <th>abl</th>\n",
              "      <th>aboard</th>\n",
              "      <th>aborigin</th>\n",
              "      <th>...</th>\n",
              "      <th>youngster</th>\n",
              "      <th>youth</th>\n",
              "      <th>yu</th>\n",
              "      <th>yugoslavia</th>\n",
              "      <th>zealand</th>\n",
              "      <th>zero</th>\n",
              "      <th>zhang</th>\n",
              "      <th>zombi</th>\n",
              "      <th>zone</th>\n",
              "      <th>zoo</th>\n",
              "    </tr>\n",
              "  </thead>\n",
              "  <tbody>\n",
              "    <tr>\n",
              "      <th>0</th>\n",
              "      <td>0.0</td>\n",
              "      <td>0.0</td>\n",
              "      <td>0.0</td>\n",
              "      <td>0.0</td>\n",
              "      <td>0.0</td>\n",
              "      <td>0.0</td>\n",
              "      <td>0.0</td>\n",
              "      <td>0.0</td>\n",
              "      <td>0.0</td>\n",
              "      <td>0.0</td>\n",
              "      <td>...</td>\n",
              "      <td>0.0</td>\n",
              "      <td>0.0</td>\n",
              "      <td>0.0</td>\n",
              "      <td>0.0</td>\n",
              "      <td>0.0</td>\n",
              "      <td>0.0</td>\n",
              "      <td>0.0</td>\n",
              "      <td>0.0</td>\n",
              "      <td>0.0</td>\n",
              "      <td>0.0</td>\n",
              "    </tr>\n",
              "    <tr>\n",
              "      <th>1</th>\n",
              "      <td>0.0</td>\n",
              "      <td>0.0</td>\n",
              "      <td>0.0</td>\n",
              "      <td>0.0</td>\n",
              "      <td>0.0</td>\n",
              "      <td>0.0</td>\n",
              "      <td>0.0</td>\n",
              "      <td>0.0</td>\n",
              "      <td>0.0</td>\n",
              "      <td>0.0</td>\n",
              "      <td>...</td>\n",
              "      <td>0.0</td>\n",
              "      <td>0.0</td>\n",
              "      <td>0.0</td>\n",
              "      <td>0.0</td>\n",
              "      <td>0.0</td>\n",
              "      <td>0.0</td>\n",
              "      <td>0.0</td>\n",
              "      <td>0.0</td>\n",
              "      <td>0.0</td>\n",
              "      <td>0.0</td>\n",
              "    </tr>\n",
              "    <tr>\n",
              "      <th>2</th>\n",
              "      <td>0.0</td>\n",
              "      <td>0.0</td>\n",
              "      <td>0.0</td>\n",
              "      <td>0.0</td>\n",
              "      <td>0.0</td>\n",
              "      <td>0.0</td>\n",
              "      <td>0.0</td>\n",
              "      <td>0.0</td>\n",
              "      <td>0.0</td>\n",
              "      <td>0.0</td>\n",
              "      <td>...</td>\n",
              "      <td>0.0</td>\n",
              "      <td>0.0</td>\n",
              "      <td>0.0</td>\n",
              "      <td>0.0</td>\n",
              "      <td>0.0</td>\n",
              "      <td>0.0</td>\n",
              "      <td>0.0</td>\n",
              "      <td>0.0</td>\n",
              "      <td>0.0</td>\n",
              "      <td>0.0</td>\n",
              "    </tr>\n",
              "    <tr>\n",
              "      <th>3</th>\n",
              "      <td>0.0</td>\n",
              "      <td>0.0</td>\n",
              "      <td>0.0</td>\n",
              "      <td>0.0</td>\n",
              "      <td>0.0</td>\n",
              "      <td>0.0</td>\n",
              "      <td>0.0</td>\n",
              "      <td>0.0</td>\n",
              "      <td>0.0</td>\n",
              "      <td>0.0</td>\n",
              "      <td>...</td>\n",
              "      <td>0.0</td>\n",
              "      <td>0.0</td>\n",
              "      <td>0.0</td>\n",
              "      <td>0.0</td>\n",
              "      <td>0.0</td>\n",
              "      <td>0.0</td>\n",
              "      <td>0.0</td>\n",
              "      <td>0.0</td>\n",
              "      <td>0.0</td>\n",
              "      <td>0.0</td>\n",
              "    </tr>\n",
              "    <tr>\n",
              "      <th>4</th>\n",
              "      <td>0.0</td>\n",
              "      <td>0.0</td>\n",
              "      <td>0.0</td>\n",
              "      <td>0.0</td>\n",
              "      <td>0.0</td>\n",
              "      <td>0.0</td>\n",
              "      <td>0.0</td>\n",
              "      <td>0.0</td>\n",
              "      <td>0.0</td>\n",
              "      <td>0.0</td>\n",
              "      <td>...</td>\n",
              "      <td>0.0</td>\n",
              "      <td>0.0</td>\n",
              "      <td>0.0</td>\n",
              "      <td>0.0</td>\n",
              "      <td>0.0</td>\n",
              "      <td>0.0</td>\n",
              "      <td>0.0</td>\n",
              "      <td>0.0</td>\n",
              "      <td>0.0</td>\n",
              "      <td>0.0</td>\n",
              "    </tr>\n",
              "  </tbody>\n",
              "</table>\n",
              "<p>5 rows × 4388 columns</p>\n",
              "</div>\n",
              "    <div class=\"colab-df-buttons\">\n",
              "\n",
              "  <div class=\"colab-df-container\">\n",
              "    <button class=\"colab-df-convert\" onclick=\"convertToInteractive('df-96c92cf3-1adc-46ef-897b-66372185333d')\"\n",
              "            title=\"Convert this dataframe to an interactive table.\"\n",
              "            style=\"display:none;\">\n",
              "\n",
              "  <svg xmlns=\"http://www.w3.org/2000/svg\" height=\"24px\" viewBox=\"0 -960 960 960\">\n",
              "    <path d=\"M120-120v-720h720v720H120Zm60-500h600v-160H180v160Zm220 220h160v-160H400v160Zm0 220h160v-160H400v160ZM180-400h160v-160H180v160Zm440 0h160v-160H620v160ZM180-180h160v-160H180v160Zm440 0h160v-160H620v160Z\"/>\n",
              "  </svg>\n",
              "    </button>\n",
              "\n",
              "  <style>\n",
              "    .colab-df-container {\n",
              "      display:flex;\n",
              "      gap: 12px;\n",
              "    }\n",
              "\n",
              "    .colab-df-convert {\n",
              "      background-color: #E8F0FE;\n",
              "      border: none;\n",
              "      border-radius: 50%;\n",
              "      cursor: pointer;\n",
              "      display: none;\n",
              "      fill: #1967D2;\n",
              "      height: 32px;\n",
              "      padding: 0 0 0 0;\n",
              "      width: 32px;\n",
              "    }\n",
              "\n",
              "    .colab-df-convert:hover {\n",
              "      background-color: #E2EBFA;\n",
              "      box-shadow: 0px 1px 2px rgba(60, 64, 67, 0.3), 0px 1px 3px 1px rgba(60, 64, 67, 0.15);\n",
              "      fill: #174EA6;\n",
              "    }\n",
              "\n",
              "    .colab-df-buttons div {\n",
              "      margin-bottom: 4px;\n",
              "    }\n",
              "\n",
              "    [theme=dark] .colab-df-convert {\n",
              "      background-color: #3B4455;\n",
              "      fill: #D2E3FC;\n",
              "    }\n",
              "\n",
              "    [theme=dark] .colab-df-convert:hover {\n",
              "      background-color: #434B5C;\n",
              "      box-shadow: 0px 1px 3px 1px rgba(0, 0, 0, 0.15);\n",
              "      filter: drop-shadow(0px 1px 2px rgba(0, 0, 0, 0.3));\n",
              "      fill: #FFFFFF;\n",
              "    }\n",
              "  </style>\n",
              "\n",
              "    <script>\n",
              "      const buttonEl =\n",
              "        document.querySelector('#df-96c92cf3-1adc-46ef-897b-66372185333d button.colab-df-convert');\n",
              "      buttonEl.style.display =\n",
              "        google.colab.kernel.accessAllowed ? 'block' : 'none';\n",
              "\n",
              "      async function convertToInteractive(key) {\n",
              "        const element = document.querySelector('#df-96c92cf3-1adc-46ef-897b-66372185333d');\n",
              "        const dataTable =\n",
              "          await google.colab.kernel.invokeFunction('convertToInteractive',\n",
              "                                                    [key], {});\n",
              "        if (!dataTable) return;\n",
              "\n",
              "        const docLinkHtml = 'Like what you see? Visit the ' +\n",
              "          '<a target=\"_blank\" href=https://colab.research.google.com/notebooks/data_table.ipynb>data table notebook</a>'\n",
              "          + ' to learn more about interactive tables.';\n",
              "        element.innerHTML = '';\n",
              "        dataTable['output_type'] = 'display_data';\n",
              "        await google.colab.output.renderOutput(dataTable, element);\n",
              "        const docLink = document.createElement('div');\n",
              "        docLink.innerHTML = docLinkHtml;\n",
              "        element.appendChild(docLink);\n",
              "      }\n",
              "    </script>\n",
              "  </div>\n",
              "\n",
              "\n",
              "<div id=\"df-33aea482-2985-470d-aad0-4b768b377b62\">\n",
              "  <button class=\"colab-df-quickchart\" onclick=\"quickchart('df-33aea482-2985-470d-aad0-4b768b377b62')\"\n",
              "            title=\"Suggest charts\"\n",
              "            style=\"display:none;\">\n",
              "\n",
              "<svg xmlns=\"http://www.w3.org/2000/svg\" height=\"24px\"viewBox=\"0 0 24 24\"\n",
              "     width=\"24px\">\n",
              "    <g>\n",
              "        <path d=\"M19 3H5c-1.1 0-2 .9-2 2v14c0 1.1.9 2 2 2h14c1.1 0 2-.9 2-2V5c0-1.1-.9-2-2-2zM9 17H7v-7h2v7zm4 0h-2V7h2v10zm4 0h-2v-4h2v4z\"/>\n",
              "    </g>\n",
              "</svg>\n",
              "  </button>\n",
              "\n",
              "<style>\n",
              "  .colab-df-quickchart {\n",
              "      --bg-color: #E8F0FE;\n",
              "      --fill-color: #1967D2;\n",
              "      --hover-bg-color: #E2EBFA;\n",
              "      --hover-fill-color: #174EA6;\n",
              "      --disabled-fill-color: #AAA;\n",
              "      --disabled-bg-color: #DDD;\n",
              "  }\n",
              "\n",
              "  [theme=dark] .colab-df-quickchart {\n",
              "      --bg-color: #3B4455;\n",
              "      --fill-color: #D2E3FC;\n",
              "      --hover-bg-color: #434B5C;\n",
              "      --hover-fill-color: #FFFFFF;\n",
              "      --disabled-bg-color: #3B4455;\n",
              "      --disabled-fill-color: #666;\n",
              "  }\n",
              "\n",
              "  .colab-df-quickchart {\n",
              "    background-color: var(--bg-color);\n",
              "    border: none;\n",
              "    border-radius: 50%;\n",
              "    cursor: pointer;\n",
              "    display: none;\n",
              "    fill: var(--fill-color);\n",
              "    height: 32px;\n",
              "    padding: 0;\n",
              "    width: 32px;\n",
              "  }\n",
              "\n",
              "  .colab-df-quickchart:hover {\n",
              "    background-color: var(--hover-bg-color);\n",
              "    box-shadow: 0 1px 2px rgba(60, 64, 67, 0.3), 0 1px 3px 1px rgba(60, 64, 67, 0.15);\n",
              "    fill: var(--button-hover-fill-color);\n",
              "  }\n",
              "\n",
              "  .colab-df-quickchart-complete:disabled,\n",
              "  .colab-df-quickchart-complete:disabled:hover {\n",
              "    background-color: var(--disabled-bg-color);\n",
              "    fill: var(--disabled-fill-color);\n",
              "    box-shadow: none;\n",
              "  }\n",
              "\n",
              "  .colab-df-spinner {\n",
              "    border: 2px solid var(--fill-color);\n",
              "    border-color: transparent;\n",
              "    border-bottom-color: var(--fill-color);\n",
              "    animation:\n",
              "      spin 1s steps(1) infinite;\n",
              "  }\n",
              "\n",
              "  @keyframes spin {\n",
              "    0% {\n",
              "      border-color: transparent;\n",
              "      border-bottom-color: var(--fill-color);\n",
              "      border-left-color: var(--fill-color);\n",
              "    }\n",
              "    20% {\n",
              "      border-color: transparent;\n",
              "      border-left-color: var(--fill-color);\n",
              "      border-top-color: var(--fill-color);\n",
              "    }\n",
              "    30% {\n",
              "      border-color: transparent;\n",
              "      border-left-color: var(--fill-color);\n",
              "      border-top-color: var(--fill-color);\n",
              "      border-right-color: var(--fill-color);\n",
              "    }\n",
              "    40% {\n",
              "      border-color: transparent;\n",
              "      border-right-color: var(--fill-color);\n",
              "      border-top-color: var(--fill-color);\n",
              "    }\n",
              "    60% {\n",
              "      border-color: transparent;\n",
              "      border-right-color: var(--fill-color);\n",
              "    }\n",
              "    80% {\n",
              "      border-color: transparent;\n",
              "      border-right-color: var(--fill-color);\n",
              "      border-bottom-color: var(--fill-color);\n",
              "    }\n",
              "    90% {\n",
              "      border-color: transparent;\n",
              "      border-bottom-color: var(--fill-color);\n",
              "    }\n",
              "  }\n",
              "</style>\n",
              "\n",
              "  <script>\n",
              "    async function quickchart(key) {\n",
              "      const quickchartButtonEl =\n",
              "        document.querySelector('#' + key + ' button');\n",
              "      quickchartButtonEl.disabled = true;  // To prevent multiple clicks.\n",
              "      quickchartButtonEl.classList.add('colab-df-spinner');\n",
              "      try {\n",
              "        const charts = await google.colab.kernel.invokeFunction(\n",
              "            'suggestCharts', [key], {});\n",
              "      } catch (error) {\n",
              "        console.error('Error during call to suggestCharts:', error);\n",
              "      }\n",
              "      quickchartButtonEl.classList.remove('colab-df-spinner');\n",
              "      quickchartButtonEl.classList.add('colab-df-quickchart-complete');\n",
              "    }\n",
              "    (() => {\n",
              "      let quickchartButtonEl =\n",
              "        document.querySelector('#df-33aea482-2985-470d-aad0-4b768b377b62 button');\n",
              "      quickchartButtonEl.style.display =\n",
              "        google.colab.kernel.accessAllowed ? 'block' : 'none';\n",
              "    })();\n",
              "  </script>\n",
              "</div>\n",
              "\n",
              "    </div>\n",
              "  </div>\n"
            ],
            "application/vnd.google.colaboratory.intrinsic+json": {
              "type": "dataframe",
              "variable_name": "tfidf_dataframe"
            }
          },
          "metadata": {},
          "execution_count": 50
        }
      ]
    },
    {
      "cell_type": "code",
      "source": [
        "# Usando PCA\n",
        "from sklearn.preprocessing import StandardScaler\n",
        "from sklearn.decomposition import PCA\n",
        "from sklearn.datasets import load_wine\n",
        "import pandas as pd\n",
        "\n",
        "pca = PCA(n_components = 4000)\n",
        "pca.fit(tfidf_dataframe)\n",
        "\n",
        "#@title\n",
        "import matplotlib.pyplot as plt\n",
        "import numpy as np\n",
        "fig = plt.figure(figsize=(7, 5))\n",
        "plt.plot([i for i in range(1, pca.n_components + 1)], np.cumsum(pca.explained_variance_ratio_))\n",
        "plt.xlabel(r'$k$ - Número de componentes principais')\n",
        "plt.ylabel(r'$f(k)$ - Fração cumulativa da variância explicada');"
      ],
      "metadata": {
        "id": "0vUwb8UrwAJQ",
        "outputId": "ee3977c1-316d-44de-a701-50f86e4e6a16",
        "colab": {
          "base_uri": "https://localhost:8080/",
          "height": 470
        }
      },
      "execution_count": 51,
      "outputs": [
        {
          "output_type": "display_data",
          "data": {
            "text/plain": [
              "<Figure size 700x500 with 1 Axes>"
            ],
            "image/png": "[encoded data removed]"
          },
          "metadata": {}
        }
      ]
    },
    {
      "cell_type": "markdown",
      "source": [
        "![image.png](data:image/png;base64,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)"
      ],
      "metadata": {
        "id": "Vtdu4CIv_nQU"
      }
    },
    {
      "cell_type": "markdown",
      "metadata": {
        "id": "yq1Vt0c9hoPa"
      },
      "source": [
        "## Metodologia"
      ]
    },
    {
      "cell_type": "markdown",
      "metadata": {
        "id": "akm5BHH7wkKX"
      },
      "source": [
        "Para atingir o objetivo proposto, vocês deverão seguir ao menos os seguintes passos:\n",
        "1. Pré-processamento dos dados textuais;\n",
        "2. Construção da matriz de TF-IDF;\n",
        "3. Redução de dimensionalidade, via PCA (Leia também sobre o *Truncated SVD*: https://scikit-learn.org/stable/modules/generated/sklearn.decomposition.TruncatedSVD.html);\n",
        "4. Aplicação de ao menos dois algoritmos de agrupamento vistos na disciplina;\n",
        "5. Validação da metodologia utilizada;\n",
        "6. Interpretação dos resultados.\n",
        "\n",
        "**PS:** essas são as exigências mínimas. Caso vocês queiram fazer/propor algo extra, será permitido (e pode ajudar na nota se a proposta for relevante)."
      ]
    },
    {
      "cell_type": "markdown",
      "metadata": {
        "id": "f-yvMFikhq_X"
      },
      "source": [
        "## Resultados esperados"
      ]
    },
    {
      "cell_type": "markdown",
      "metadata": {
        "id": "ecXkqcTOzuTk"
      },
      "source": [
        "Dois tipo de resultados são esperados: validação e análise."
      ]
    },
    {
      "cell_type": "markdown",
      "metadata": {
        "id": "VPMymRAQz6Og"
      },
      "source": [
        "### Resultados de validação"
      ]
    },
    {
      "cell_type": "markdown",
      "metadata": {
        "id": "QR2SWoRYz-xS"
      },
      "source": [
        "O trabalho deve conter resultados mostrando que os algoritmos (e respectivos parâmetros) foram escolhidos e utilizados de forma correta. Entre os pontos importantes:\n",
        "1. Como foi escolhido o número de componentes principais para o PCA? O número de componentes principais tem um impacto significativo nos resultados? É necessário usar PCA neste trabalho?\n",
        "2. Como o número de grupos para cada algoritmo de agrupamento foi definido? A escolha do algoritmo de agrupamento impacta significativamente os resultados? E o número de grupos?\n",
        "\n",
        "Fará parte da avaliação a forma que escolherem para validar a metodologia. Vocês podem recorrer a visualizações interessantes, medidas internas..."
      ]
    },
    {
      "cell_type": "markdown",
      "metadata": {
        "id": "MEz5n3-50Lsx"
      },
      "source": [
        "### Análise"
      ]
    },
    {
      "cell_type": "markdown",
      "metadata": {
        "id": "WYodSngv0NZg"
      },
      "source": [
        "Após validar e entender os resultados (e se convencerem que estão corretos e fazem sentido), você deve responder as perguntas principais:\n",
        "- Há diferença nas distribuições de gêneros dos filmes em grupos diferentes?\n",
        "- Há relação entre as sinopses dos filmes e os respectivos gêneros?\n",
        "\n",
        "- **Opcional, pontuação extra:** se, além das sinopses, você também considerar as demais informações no conjunto de dados (avaliações, atores/atrizes, diretores(as), título, ano e duração) para os algoritmos de agrupamento, é possível encontrar uma melhor associação entre os grupos e os gêneros dos filmes?\n",
        "Novamente, recorra às ferramentas que já vimos no curso para responder essa pergunta: visualizações, medidas externas... **soluções que tiverem achados interessantes nessa parte do trabalho ganharão ponto extra**."
      ]
    },
    {
      "cell_type": "markdown",
      "metadata": {
        "id": "o1ASld2-huE3"
      },
      "source": [
        "## Observações importantes"
      ]
    },
    {
      "cell_type": "markdown",
      "metadata": {
        "id": "2UO36M8FpCRw"
      },
      "source": [
        "1. Durante a fase de agrupamento, apenas a informação da sinopse deve ser utilizada. A informação de **gênero dos filmes** deve ser usada apenas após a fase de agrupamento para validar e analisar os resultados.\n",
        "2. Vocês podem usar todas as bibliotecas Python que venho mostrando em aula. Caso queiram usar algo muito diferente (por exemplo, alguma biblioteca de uso comercial), perguntem ao professor antes (em nosso fórum do AVA).\n",
        "3. Lembrem-se que este trabalho vale 30% da nota do semestre. Vocês serão avaliados pela:\n",
        "  - Qualidade dos resultados quantitativos;\n",
        "  - Escolha e condução da metodologia;\n",
        "  - Uso de visualizações informativas e bem feitas;\n",
        "  - Explicação dos passos seguidos e das decisões tomadas;\n",
        "  - Justificativas para as decisões tomadas;\n",
        "  - Análise dos resultados;\n",
        "  - Conclusões.\n",
        "4. Qualquer colaboração, entre grupos ou de fontes externas, deve ser citada e mencionada no trabalho. **NÃO HAVERÁ TOLERÂNCIA PARA COLABORAÇÕES INDEVIDAS!**"
      ]
    },
    {
      "cell_type": "markdown",
      "metadata": {
        "id": "exsoCRlShxue"
      },
      "source": [
        "## Grupos"
      ]
    },
    {
      "cell_type": "markdown",
      "metadata": {
        "id": "9Y2N5Z6z5hg2"
      },
      "source": [
        "- **Graduação:** até 3 pessoas\n",
        "- **Pós-graduação:** individual"
      ]
    },
    {
      "cell_type": "markdown",
      "metadata": {
        "id": "0FZB-sI2h5SD"
      },
      "source": [
        "## Entrega"
      ]
    },
    {
      "cell_type": "markdown",
      "metadata": {
        "id": "2JoLe1135rh-"
      },
      "source": [
        "- **Linguagem de programação:** Python\n",
        "- **O que entregar:** um *Jupyter Notebook*, contendo texto, código e resultados. Deve ser possível que o professor execute o seu código, mas o arquivo ``.ipynb`` submetido já deve conter todos os resultados (i.e., deve ser possível corrigir seu trabalho apenas abrindo o arquivo). Apenas um integrante do grupo deve fazer a submissão no AVA. Lembrem-se de colocar a informação de todos os integrantes do grupo (nome, matrícula e e-mail)."
      ]
    },
    {
      "cell_type": "markdown",
      "metadata": {
        "id": "euhJZNqK6jCI"
      },
      "source": [
        "## Dúvidas?"
      ]
    },
    {
      "cell_type": "markdown",
      "metadata": {
        "id": "XKBfomkc6l8e"
      },
      "source": [
        "Postem em nosso fórum do AVA!"
      ]
    },
    {
      "cell_type": "markdown",
      "source": [
        "# Referências\n",
        "\n",
        "- Lista de [stopwords](https://github.com/igorbrigadir/stopwords/blob/21fb2ef149216e3c8cac097975223604ae1e2310/en/rouge_155.txt) que encontramos na documentação do Scikitlearn\n",
        "-"
      ],
      "metadata": {
        "id": "EYs69FKxWiUy"
      }
    }
  ]
}